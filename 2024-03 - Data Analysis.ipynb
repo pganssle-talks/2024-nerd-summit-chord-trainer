{
 "cells": [
  {
   "cell_type": "code",
   "execution_count": null,
   "id": "ba92b949-fae3-4b69-9310-139bdfca6bf4",
   "metadata": {},
   "outputs": [],
   "source": [
    "import json\n",
    "import itertools\n",
    "import matplotlib\n",
    "import numpy as np\n",
    "import pandas as pd\n",
    "import seaborn as sns\n",
    "\n",
    "import matplotlib.animation\n",
    "\n",
    "from datetime import datetime, timedelta\n",
    "from dateutil import rrule\n",
    "from matplotlib import pyplot as plt\n",
    "from matplotlib import dates as mdates\n",
    "\n",
    "import IPython\n",
    "from IPython.display import HTML"
   ]
  },
  {
   "cell_type": "code",
   "execution_count": null,
   "id": "24697eab-6a72-404a-8d09-99d9b88f6ca7",
   "metadata": {},
   "outputs": [],
   "source": [
    "%matplotlib inline"
   ]
  },
  {
   "cell_type": "code",
   "execution_count": null,
   "id": "01200953-0fa5-452d-b628-799f0bce6274",
   "metadata": {},
   "outputs": [],
   "source": [
    "sns.set_theme(style='white')"
   ]
  },
  {
   "cell_type": "markdown",
   "id": "a7b8d4f0-e290-47bf-b03e-8cb9f80914fe",
   "metadata": {},
   "source": [
    "# Relative vs. Absolute Pitch Figure"
   ]
  },
  {
   "cell_type": "code",
   "execution_count": null,
   "id": "74616e9c-2225-4b3a-ab1a-516e7bfaf1d0",
   "metadata": {},
   "outputs": [],
   "source": [
    "def make_packet(t, freq, t0, width=0.5):\n",
    "    envelope = np.exp(-(t-t0)**2/(width**2))\n",
    "    carrier = np.sin(2 * np.pi * freq * t)\n",
    "    return carrier * envelope\n"
   ]
  },
  {
   "cell_type": "markdown",
   "id": "989f90af-3ae8-4871-8157-c15a3cb75421",
   "metadata": {},
   "source": [
    "This figure shows multiple waveforms at different frequencies. It's not easy to tell by eye what frequencies they are, but you can tell which ones are higher and lower frequency than one another."
   ]
  },
  {
   "cell_type": "code",
   "execution_count": null,
   "id": "75328fcc-35c5-4795-a89f-347617f0fa37",
   "metadata": {},
   "outputs": [],
   "source": [
    "N = 2**16\n",
    "\n",
    "ew = 1\n",
    "hz_freqs = [2.5, 7.5, 15]\n",
    "window =  6 * ew * len(hz_freqs)\n",
    "\n",
    "t = np.linspace(0, window, N)\n",
    "plt.figure(figsize=(16, 8))\n",
    "\n",
    "for ii, freq in enumerate(hz_freqs):\n",
    "    plt.plot(t, make_packet(t, freq, t0=(3 + 6 * ii) * ew, width=ew), lw=2.5)\n",
    "\n",
    "plt.plot(t, [0] * len(t), 'k-', lw=2.5)\n",
    "\n",
    "ax = plt.gca()\n",
    "ax.set_yticks([])\n",
    "ax.set_xlabel(\"Time (ms)\");\n",
    "plt.tight_layout()"
   ]
  },
  {
   "cell_type": "markdown",
   "id": "9322032b-b60b-4748-9090-aac4b9b9228f",
   "metadata": {},
   "source": [
    "This figure represents the three waveforms in the Fourier domain (plotting frequency vs. amplitude), where it is easy to see the absolute frequency of each wave."
   ]
  },
  {
   "cell_type": "code",
   "execution_count": null,
   "id": "a8dd2359-709e-40c9-a562-b32ead8308c0",
   "metadata": {},
   "outputs": [],
   "source": [
    "def do_fft(signal, convolution_kernel_size=0):\n",
    "    output = np.real(np.sqrt(np.fft.rfft(signal)**2))\n",
    "    if convolution_kernel_size > 0:\n",
    "        kernel = np.ones(convolution_kernel_size) / convolution_kernel_size\n",
    "        output = np.convolve(output, kernel, mode=\"same\")\n",
    "    return output\n",
    "\n",
    "signal_width = window * 30\n",
    "\n",
    "t2 = np.linspace(0, signal_width, N)\n",
    "d = t2[1]-t2[0]\n",
    "f = np.fft.rfftfreq(N, d=d)\n",
    "ss = slice(0, np.where(f <= max(hz_freqs) + (0.75 * min(hz_freqs)))[0].max())\n",
    "\n",
    "spectrum_max = 0\n",
    "plt.figure(figsize=(16, 8))\n",
    "for freq in hz_freqs:\n",
    "    spectrum = do_fft(make_packet(t2, freq, t0=signal_width/2, width=ew))\n",
    "    spectrum /= spectrum.sum()\n",
    "    spectrum_max = max(spectrum_max, spectrum.max())\n",
    "    plt.plot(f[ss], spectrum[ss], lw=5)\n",
    "\n",
    "plt.plot(f[ss], [0] * len(f[ss]), '-k', lw=5)\n",
    "\n",
    "ax = plt.gca()\n",
    "ax.set_yticks([])\n",
    "ax.set_xlabel(\"Frequency (kHz)\");\n",
    "ax.set_xlim(f[ss].min(), f[ss].max())\n",
    "ax.set_ylim(0, spectrum_max.real * 1.1)\n",
    "plt.tight_layout()"
   ]
  },
  {
   "cell_type": "markdown",
   "id": "ec302e03-8db1-4159-9be0-aa2409dff989",
   "metadata": {},
   "source": [
    "# Analysis of responses"
   ]
  },
  {
   "cell_type": "code",
   "execution_count": null,
   "id": "3ddbb6a0-ab26-443b-89d1-43dca5ef18af",
   "metadata": {},
   "outputs": [],
   "source": [
    "# Load the data from a history file\n",
    "with open(\"data/cim_history.json\") as f:\n",
    "    json_data = json.load(f)\n",
    "\n",
    "# Should only be one profile in here, so we'll extract that\n",
    "assert len(json_data) == 1, \"Need to select a profile in multi-profile histories\"\n",
    "json_data = next(iter(json_data.values()))"
   ]
  },
  {
   "cell_type": "code",
   "execution_count": null,
   "id": "3e5ccafb-5331-4f52-85df-7a591a4a7394",
   "metadata": {},
   "outputs": [],
   "source": [
    "COLORS = [\n",
    "    \"red\",\n",
    "    \"yellow\",\n",
    "    \"blue\",\n",
    "    \"black\",\n",
    "    \"green\",\n",
    "    \"orange\",\n",
    "    \"purple\",\n",
    "    \"pink\",\n",
    "    \"brown\"\n",
    "]\n",
    "\n",
    "def to_idx(color):\n",
    "    return COLORS.index(color)"
   ]
  },
  {
   "cell_type": "code",
   "execution_count": null,
   "id": "e1de6f9d-aa57-4e5d-9fa0-4990605960fe",
   "metadata": {},
   "outputs": [],
   "source": [
    "def set_date_formatter(ax):\n",
    "    start = datetime.max\n",
    "    end = datetime.min\n",
    "    for line in ax.lines:\n",
    "        x_data = line.get_xdata()\n",
    "        x_min = min(x_data).replace(tzinfo=None)\n",
    "        x_max = max(x_data).replace(tzinfo=None)\n",
    "        start = min(start, x_min)\n",
    "        end = max(end, x_max)\n",
    "    \n",
    "    if end - start < timedelta(days=120):\n",
    "        rule = mdates.rrulewrapper(rrule.MONTHLY, bymonthday=range(1, 31, 3))\n",
    "    elif end - start < timedelta(days=210):\n",
    "        rule = mdates.rrulewrapper(rrule.MONTHLY, bymonthday=range(1,31,5))\n",
    "    elif end - start < timedelta(days=365):\n",
    "        rule = mdates.rrulewrapper(rrule.WEEKLY, bymonthday=1)\n",
    "    else:\n",
    "        rule = mdates.rrulewrapper(rrule.MONTHLY, bymonthday=1)\n",
    "\n",
    "    xrange = (start, end)\n",
    "\n",
    "    locator = mdates.RRuleLocator(rule)\n",
    "    \n",
    "    ax.set_xticks(ax.get_xticks(), labels=ax.get_xticklabels(), rotation=45)\n",
    "    ax.xaxis.set_major_locator(locator)\n",
    "    ax.xaxis.set_major_formatter(\n",
    "        mdates.ConciseDateFormatter(\n",
    "            ax.xaxis.get_major_locator(),\n",
    "            show_offset=False,\n",
    "            formats=[\n",
    "                \"%Y\",\n",
    "                r\"$\\bf{%b}$\",\n",
    "                \"%d\",\n",
    "                \"%H:%M\",\n",
    "                \"%H:%M\",\n",
    "                \"%S.%f\",\n",
    "            ],\n",
    "        )\n",
    "    )\n",
    "\n"
   ]
  },
  {
   "cell_type": "code",
   "execution_count": null,
   "id": "e17ac8e2-d6aa-424c-8013-be46fac47dc3",
   "metadata": {},
   "outputs": [],
   "source": [
    "def get_session_history(history):\n",
    "    all_sessions = []\n",
    "\n",
    "    def to_datetime(df, col):\n",
    "        return pd.to_datetime(df[col], unit=\"s\", utc=True).dt.tz_convert(\"America/New_York\")\n",
    "    \n",
    "    for color, data in history.items():\n",
    "        if not data:\n",
    "            continue\n",
    "        session_df = pd.DataFrame(data)\n",
    "        session_df = session_df[[\"current_chord\", \"start_time\", \"updated_time\", \"identifications\", \"correct\"]]\n",
    "        all_sessions.append(session_df)\n",
    "\n",
    "    joined_df = pd.concat(all_sessions)\n",
    "    joined_df = joined_df.rename({\"current_chord\": \"color\"}, axis=1)\n",
    "    joined_df[\"start_time\"] = to_datetime(joined_df, \"start_time\")\n",
    "    joined_df[\"updated_time\"] = to_datetime(joined_df, \"updated_time\")\n",
    "    joined_df = joined_df.sort_values(by=\"start_time\")\n",
    "    joined_df[\"percent_correct\"] = (joined_df[\"correct\"] / joined_df[\"identifications\"]) * 100\n",
    "    return joined_df"
   ]
  },
  {
   "cell_type": "code",
   "execution_count": null,
   "id": "2beb46aa-923f-4842-828e-f6d66276da2f",
   "metadata": {},
   "outputs": [],
   "source": [
    "session_history = get_session_history(json_data)\n",
    "session_history = session_history[session_history[\"color\"] != \"red\"] # These are not interesting"
   ]
  },
  {
   "cell_type": "markdown",
   "id": "3eb1ab71-4e2c-4364-8cc5-e8c41d723060",
   "metadata": {},
   "source": [
    "In December 2023, we realized that we had moved on from Orange too quickly, because all through Purple and Pink, almost all the confusion was coming because he didn't have Orange down, so we jumped back to Orange. At the same time, we also switched to the \"new\" chords (using Tone.js), so I've divided the history into \"old\" and \"new\".\n",
    "\n",
    "This history starts after we had already been using the program for a few months."
   ]
  },
  {
   "cell_type": "code",
   "execution_count": null,
   "id": "4ab4228f-9a4c-4e2f-86a3-3910738a8574",
   "metadata": {},
   "outputs": [],
   "source": [
    "switch_point = datetime(2023, 12, 9)\n",
    "o_df = session_history.loc[session_history[\"start_time\"].dt.tz_localize(None) < switch_point]\n",
    "n_df = session_history.loc[session_history[\"start_time\"].dt.tz_localize(None) >= switch_point]\n",
    "\n",
    "o_df = o_df[o_df[\"color\"] != \"red\"]"
   ]
  },
  {
   "cell_type": "code",
   "execution_count": null,
   "id": "7ebc036d-3552-46a1-80aa-e847120e4bd6",
   "metadata": {},
   "outputs": [],
   "source": [
    "def plot_session_history(df):\n",
    "    fig = plt.figure(figsize=(10, 6))\n",
    "    plt.plot(df[\"start_time\"], df[\"percent_correct\"].rolling(window=12).mean(), \"-\", zorder=0)\n",
    "    plt.scatter(df[\"start_time\"], df[\"percent_correct\"], color=df[\"color\"], zorder=1)\n",
    "    set_date_formatter(plt.gca())\n",
    "    plt.tight_layout()\n",
    "\n",
    "plot_session_history(o_df)\n",
    "plot_session_history(n_df)"
   ]
  },
  {
   "cell_type": "code",
   "execution_count": null,
   "id": "f7b506bd-5563-4519-85ba-ba6ee7590c13",
   "metadata": {},
   "outputs": [],
   "source": [
    "def make_confusion_matrix(history, color):\n",
    "    history_size = COLORS.index(color) + 1\n",
    "    sessions = history[color]\n",
    "    arr = np.zeros((history_size, history_size, len(sessions)))\n",
    "    for ii, session in enumerate(sessions):\n",
    "        for target_color in session[\"confusion_matrix\"]:\n",
    "            for act_color, num in session[\"confusion_matrix\"][target_color].items():\n",
    "                arr[to_idx(target_color), to_idx(act_color), ii] = num\n",
    "    return arr"
   ]
  },
  {
   "cell_type": "code",
   "execution_count": null,
   "id": "75f54911-cd41-472c-887e-4761acb89f8f",
   "metadata": {},
   "outputs": [],
   "source": [
    "def replace_value(arr, value, new_value):\n",
    "    arr_cp = arr.copy()\n",
    "    arr_cp[arr_cp == value] = new_value\n",
    "    return arr_cp\n",
    "\n",
    "def normalize_cm(cm):\n",
    "    return cm / replace_value(cm.sum(axis=1), 0, 1)\n",
    "\n",
    "default_palette = sns.diverging_palette(10, 220, sep=10, n=20, as_cmap=True)\n",
    "\n",
    "def plot_cm(cm, i, cmap=default_palette, subsample=1, ax=None):\n",
    "    if ax is None:\n",
    "        ax = plt.gca()\n",
    "\n",
    "    tick_labels = COLORS[:cm.shape[0]]\n",
    "    new_cm = normalize_cm(cm[:, :, i*subsample:(i + 1) * subsample].sum(axis=2))\n",
    "    max_val = 1\n",
    "    off_diagonal_mask = ~np.eye(cm.shape[0], dtype=bool)\n",
    "    new_cm[off_diagonal_mask] = -new_cm[off_diagonal_mask]\n",
    "    hm = sns.heatmap(new_cm[::-1,:],\n",
    "                cmap=cmap,\n",
    "                vmax=max_val,\n",
    "                vmin=-max_val,\n",
    "                xticklabels=tick_labels,\n",
    "                yticklabels=tick_labels[::-1],\n",
    "                cbar=False,\n",
    "                ax=ax)\n",
    "    ax.set_title(f\"{i}\")\n",
    "\n",
    "    ax.set_xlabel(\"Guess\")\n",
    "    ax.set_ylabel(\"Correct\")\n",
    "\n",
    "    return hm\n",
    "\n",
    "def animated_cm(cm, subsample = 10):\n",
    "    fig = plt.figure(figsize=(10, 6))\n",
    "    ax = fig.gca()\n",
    "    def animate(i):\n",
    "        ax.clear()\n",
    "        plot_cm(cm, i, subsample=subsample, ax=ax)\n",
    "    animation = matplotlib.animation.FuncAnimation(fig, animate, frames=cm.shape[2] // subsample)\n",
    "    plt.close()  # After the animation is done we don't need the plot anymore\n",
    "    return animation\n",
    "    \n",
    "\n",
    "# Show the animation\n",
    "HTML(animated_cm(make_confusion_matrix(json_data, \"purple\")).to_jshtml())"
   ]
  },
  {
   "cell_type": "code",
   "execution_count": null,
   "id": "5ff66ce3-a095-49e3-9c51-b0f40daadaee",
   "metadata": {},
   "outputs": [],
   "source": []
  },
  {
   "cell_type": "markdown",
   "id": "51877606-1fda-47dc-ab11-8bfb85e50978",
   "metadata": {},
   "source": [
    "# Adaptive Mode Figures"
   ]
  },
  {
   "cell_type": "code",
   "execution_count": null,
   "id": "1d6fea43-e7cd-4d53-9629-8dc3ed1f8133",
   "metadata": {},
   "outputs": [],
   "source": [
    "def matrix_to_json(arr):\n",
    "    out = {}\n",
    "    for i, ci in zip(range(arr.shape[0]), COLORS):\n",
    "        out[ci] = {}\n",
    "        for j, cj in zip(range(arr.shape[0]), COLORS):\n",
    "            out[ci][cj] = int(arr[i, j])\n",
    "            \n",
    "    return json.dumps(out)\n",
    "        "
   ]
  },
  {
   "cell_type": "code",
   "execution_count": null,
   "id": "b3aa35f4-fa52-4c72-8f91-9d0ff8e24c41",
   "metadata": {},
   "outputs": [],
   "source": [
    "confusion_matrix = np.array(\n",
    "      [[ 100,   0,   0,   0,],\n",
    "       [  0,  100,   0,   0,],\n",
    "       [  0,   0,  100,   0,],\n",
    "       [  0,   0,   0,  100,]\n",
    "      ])\n",
    "print(matrix_to_json(confusion_matrix))\n",
    "coefficients = np.array([ 0.25, 0.25, 0.25, 0.25 ])\n",
    "plot_cm(np.reshape(confusion_matrix,(*confusion_matrix.shape, 1)), 0)\n",
    "plt.savefig(\"images/adaptive_example_cm_0.png\")\n",
    "plt.figure()\n",
    "plt.pie(coefficients, colors=COLORS[:len(coefficients)])\n",
    "plt.savefig(\"images/adaptive_example_pie_0.png\")"
   ]
  },
  {
   "cell_type": "code",
   "execution_count": null,
   "id": "838d7e0c-71bc-443b-8b22-2638e086eec3",
   "metadata": {},
   "outputs": [],
   "source": [
    "confusion_matrix = np.array(\n",
    "      [[ 100,   0,   0,   0,],\n",
    "       [  0,  100,   0,   0,],\n",
    "       [  1,   0,  110,   10,],\n",
    "       [  0,   0,   20,  120,]\n",
    "      ])\n",
    "print(matrix_to_json(confusion_matrix))\n",
    "coefficients = np.array([ 0.16072842438638163, 0.1583531274742676, 0.3087885985748218, 0.3721298495645289 ])\n",
    "plot_cm(np.reshape(confusion_matrix,(*confusion_matrix.shape, 1)), 0)\n",
    "plt.savefig(\"images/adaptive_example_cm_1.png\")\n",
    "plt.figure()\n",
    "plt.pie(coefficients, colors=COLORS[:len(coefficients)])\n",
    "plt.savefig(\"images/adaptive_example_pie_1.png\")"
   ]
  },
  {
   "cell_type": "code",
   "execution_count": null,
   "id": "d9291a0e-98d5-4c9f-a97e-1e4483cf9477",
   "metadata": {},
   "outputs": [],
   "source": [
    "confusion_matrix = np.array(\n",
    "      [[ 100,   0,   0,   0,],\n",
    "       [  0,  100,   0,   0,],\n",
    "       [  1,   0,  110,   0,],\n",
    "       [  0,   0,   100,  120,]\n",
    "      ])\n",
    "\n",
    "print(matrix_to_json(confusion_matrix))\n",
    "coefficients = np.array([ 0.09341923607915324, 0.09203865623561897, 0.24390243902439024, 0.5706396686608376 ])\n",
    "plot_cm(np.reshape(confusion_matrix,(*confusion_matrix.shape, 1)), 0)\n",
    "plt.savefig(\"images/adaptive_example_cm_2.png\")\n",
    "plt.figure()\n",
    "plt.pie(coefficients, colors=COLORS[:len(coefficients)])\n",
    "plt.savefig(\"images/adaptive_example_pie_2.png\")"
   ]
  },
  {
   "cell_type": "code",
   "execution_count": null,
   "id": "2749efbe-6e0e-4056-9c99-219762698a0b",
   "metadata": {},
   "outputs": [],
   "source": [
    "from IPython import Javascript\n"
   ]
  },
  {
   "cell_type": "code",
   "execution_count": null,
   "id": "deb040ea-b8b2-403e-a59e-3b89e07b2787",
   "metadata": {},
   "outputs": [],
   "source": [
    "plot_cm(np.reshape(confusion_matrix,(*confusion_matrix.shape, 1)), 0);"
   ]
  },
  {
   "cell_type": "code",
   "execution_count": null,
   "id": "d0897f0c-b7c6-412b-9d37-905bb5c3b4be",
   "metadata": {},
   "outputs": [],
   "source": [
    "plt.pie(coefficients, colors=COLORS[:len(coefficients)]);"
   ]
  },
  {
   "cell_type": "code",
   "execution_count": null,
   "id": "285ff72e-2c54-48ca-9bc1-852ae535c532",
   "metadata": {},
   "outputs": [],
   "source": []
  }
 ],
 "metadata": {
  "kernelspec": {
   "display_name": "Python 3 (ipykernel)",
   "language": "python",
   "name": "python3"
  },
  "language_info": {
   "codemirror_mode": {
    "name": "ipython",
    "version": 3
   },
   "file_extension": ".py",
   "mimetype": "text/x-python",
   "name": "python",
   "nbconvert_exporter": "python",
   "pygments_lexer": "ipython3",
   "version": "3.11.0"
  }
 },
 "nbformat": 4,
 "nbformat_minor": 5
}
